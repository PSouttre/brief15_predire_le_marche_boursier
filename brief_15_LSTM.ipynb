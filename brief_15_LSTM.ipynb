{
 "cells": [
  {
   "cell_type": "code",
   "execution_count": null,
   "id": "2628a182-abf0-45f5-928e-96ab71252201",
   "metadata": {},
   "outputs": [],
   "source": [
    "# https://www.geeksforgeeks.org/long-short-term-memory-networks-using-pytorch/"
   ]
  },
  {
   "cell_type": "markdown",
   "id": "GttQprEuu4NZ",
   "metadata": {
    "id": "GttQprEuu4NZ"
   },
   "source": [
    "Librairies\n"
   ]
  },
  {
   "cell_type": "code",
   "execution_count": 1,
   "id": "9b898b12-1bcc-49df-b44b-a5695312f9e0",
   "metadata": {
    "executionInfo": {
     "elapsed": 394,
     "status": "ok",
     "timestamp": 1745572680466,
     "user": {
      "displayName": "Peggy Souttre",
      "userId": "08744239975247454790"
     },
     "user_tz": -120
    },
    "id": "9b898b12-1bcc-49df-b44b-a5695312f9e0"
   },
   "outputs": [],
   "source": [
    "import pickle\n",
    "import pandas as pd\n",
    "import torch\n",
    "import torch.nn as nn\n",
    "import numpy as np\n",
    "import math\n",
    "import matplotlib.pyplot as plt\n",
    "import sidetable as stb\n",
    "\n",
    "from sklearn.preprocessing import MinMaxScaler\n",
    "from sklearn.metrics import mean_absolute_error, mean_squared_error\n",
    "\n"
   ]
  },
  {
   "cell_type": "code",
   "execution_count": 2,
   "id": "kmuZ9k7IuGGw",
   "metadata": {
    "executionInfo": {
     "elapsed": 37,
     "status": "ok",
     "timestamp": 1745574552776,
     "user": {
      "displayName": "Peggy Souttre",
      "userId": "08744239975247454790"
     },
     "user_tz": -120
    },
    "id": "kmuZ9k7IuGGw"
   },
   "outputs": [],
   "source": [
    "# Récupération du fichier de données\n",
    "with open(\"magnific7_1day.pkl\", \"rb\") as f:\n",
    "    data = pickle.load(f)"
   ]
  },
  {
   "cell_type": "code",
   "execution_count": 3,
   "id": "5UYTJj4eUqaB",
   "metadata": {
    "colab": {
     "base_uri": "https://localhost:8080/",
     "height": 238
    },
    "executionInfo": {
     "elapsed": 48,
     "status": "ok",
     "timestamp": 1745574608007,
     "user": {
      "displayName": "Peggy Souttre",
      "userId": "08744239975247454790"
     },
     "user_tz": -120
    },
    "id": "5UYTJj4eUqaB",
    "outputId": "8f27c32a-b123-412f-cc3f-0cd40edb8e56"
   },
   "outputs": [
    {
     "data": {
      "text/html": [
       "<div>\n",
       "<style scoped>\n",
       "    .dataframe tbody tr th:only-of-type {\n",
       "        vertical-align: middle;\n",
       "    }\n",
       "\n",
       "    .dataframe tbody tr th {\n",
       "        vertical-align: top;\n",
       "    }\n",
       "\n",
       "    .dataframe thead th {\n",
       "        text-align: right;\n",
       "    }\n",
       "</style>\n",
       "<table border=\"1\" class=\"dataframe\">\n",
       "  <thead>\n",
       "    <tr style=\"text-align: right;\">\n",
       "      <th></th>\n",
       "      <th>open</th>\n",
       "      <th>high</th>\n",
       "      <th>low</th>\n",
       "      <th>close</th>\n",
       "      <th>volume</th>\n",
       "    </tr>\n",
       "    <tr>\n",
       "      <th>date</th>\n",
       "      <th></th>\n",
       "      <th></th>\n",
       "      <th></th>\n",
       "      <th></th>\n",
       "      <th></th>\n",
       "    </tr>\n",
       "  </thead>\n",
       "  <tbody>\n",
       "    <tr>\n",
       "      <th>2010-01-04</th>\n",
       "      <td>7.62</td>\n",
       "      <td>7.66</td>\n",
       "      <td>7.58</td>\n",
       "      <td>7.64</td>\n",
       "      <td>493729600</td>\n",
       "    </tr>\n",
       "    <tr>\n",
       "      <th>2010-01-05</th>\n",
       "      <td>7.66</td>\n",
       "      <td>7.70</td>\n",
       "      <td>7.62</td>\n",
       "      <td>7.66</td>\n",
       "      <td>601904800</td>\n",
       "    </tr>\n",
       "    <tr>\n",
       "      <th>2010-01-06</th>\n",
       "      <td>7.66</td>\n",
       "      <td>7.69</td>\n",
       "      <td>7.53</td>\n",
       "      <td>7.53</td>\n",
       "      <td>552160000</td>\n",
       "    </tr>\n",
       "    <tr>\n",
       "      <th>2010-01-07</th>\n",
       "      <td>7.56</td>\n",
       "      <td>7.57</td>\n",
       "      <td>7.47</td>\n",
       "      <td>7.52</td>\n",
       "      <td>477131200</td>\n",
       "    </tr>\n",
       "    <tr>\n",
       "      <th>2010-01-08</th>\n",
       "      <td>7.51</td>\n",
       "      <td>7.57</td>\n",
       "      <td>7.47</td>\n",
       "      <td>7.57</td>\n",
       "      <td>447876740</td>\n",
       "    </tr>\n",
       "  </tbody>\n",
       "</table>\n",
       "</div>"
      ],
      "text/plain": [
       "            open  high   low  close     volume\n",
       "date                                          \n",
       "2010-01-04  7.62  7.66  7.58   7.64  493729600\n",
       "2010-01-05  7.66  7.70  7.62   7.66  601904800\n",
       "2010-01-06  7.66  7.69  7.53   7.53  552160000\n",
       "2010-01-07  7.56  7.57  7.47   7.52  477131200\n",
       "2010-01-08  7.51  7.57  7.47   7.57  447876740"
      ]
     },
     "execution_count": 3,
     "metadata": {},
     "output_type": "execute_result"
    }
   ],
   "source": [
    "data = data[\"APPLE\"]\n",
    "data.head()"
   ]
  },
  {
   "cell_type": "code",
   "execution_count": 4,
   "id": "25b223cb-8a1c-4e84-ae0e-5a9978850317",
   "metadata": {},
   "outputs": [
    {
     "data": {
      "text/plain": [
       "Index(['open', 'high', 'low', 'close', 'volume'], dtype='object')"
      ]
     },
     "execution_count": 4,
     "metadata": {},
     "output_type": "execute_result"
    }
   ],
   "source": [
    "data.columns\n"
   ]
  },
  {
   "cell_type": "code",
   "execution_count": 5,
   "id": "tDvKwePNuGif",
   "metadata": {
    "colab": {
     "base_uri": "https://localhost:8080/"
    },
    "executionInfo": {
     "elapsed": 5,
     "status": "ok",
     "timestamp": 1745574095018,
     "user": {
      "displayName": "Peggy Souttre",
      "userId": "08744239975247454790"
     },
     "user_tz": -120
    },
    "id": "tDvKwePNuGif",
    "outputId": "eb8f7fba-c484-4e3e-f620-e071d26229fc"
   },
   "outputs": [
    {
     "data": {
      "text/plain": [
       "<torch._C.Generator at 0x22c97e75470>"
      ]
     },
     "execution_count": 5,
     "metadata": {},
     "output_type": "execute_result"
    }
   ],
   "source": [
    "np.random.seed(0)        # permet d’obtenir les mêmes résultats à chaque exécution\n",
    "torch.manual_seed(0)     # garantit que les opérations aléatoires faites par PyTorch (initialisation de poids, batchs, etc.) sont déterministes"
   ]
  },
  {
   "cell_type": "code",
   "execution_count": 6,
   "id": "obFk9gPUuGpo",
   "metadata": {
    "executionInfo": {
     "elapsed": 2,
     "status": "ok",
     "timestamp": 1745574107392,
     "user": {
      "displayName": "Peggy Souttre",
      "userId": "08744239975247454790"
     },
     "user_tz": -120
    },
    "id": "obFk9gPUuGpo"
   },
   "outputs": [],
   "source": [
    "# Fonction pour la création des séquences\n",
    "def create_sequences(data, seq_length):\n",
    "    xs = []\n",
    "    ys = []\n",
    "    for i in range(len(data)-seq_length):\n",
    "        x = data[i:(i+seq_length)]\n",
    "        y = data[i + seq_length, 3] \n",
    "        xs.append(x)\n",
    "        ys.append(y)\n",
    "    return np.array(xs), np.array(ys)"
   ]
  },
  {
   "cell_type": "code",
   "execution_count": 7,
   "id": "e40cb40b-aa6f-4ae5-a501-7fcf57735e18",
   "metadata": {},
   "outputs": [
    {
     "data": {
      "text/plain": [
       "(3848, 5)"
      ]
     },
     "execution_count": 7,
     "metadata": {},
     "output_type": "execute_result"
    }
   ],
   "source": [
    "data.shape"
   ]
  },
  {
   "cell_type": "code",
   "execution_count": 8,
   "id": "oTLGTGlduGvu",
   "metadata": {
    "executionInfo": {
     "elapsed": 29,
     "status": "ok",
     "timestamp": 1745572706490,
     "user": {
      "displayName": "Peggy Souttre",
      "userId": "08744239975247454790"
     },
     "user_tz": -120
    },
    "id": "oTLGTGlduGvu"
   },
   "outputs": [],
   "source": [
    "seq_length = 10                                                   # le LSTM apprend à prédire le jour 11 à partir des 10 premiers jours\n",
    "X_raw, y_raw = create_sequences(data.values, seq_length)\n"
   ]
  },
  {
   "cell_type": "code",
   "execution_count": 9,
   "id": "3b8d748f-f575-4f13-b566-63e29170c133",
   "metadata": {},
   "outputs": [
    {
     "data": {
      "text/plain": [
       "(3838, 10, 5)"
      ]
     },
     "execution_count": 9,
     "metadata": {},
     "output_type": "execute_result"
    }
   ],
   "source": [
    "X_raw.shape\n"
   ]
  },
  {
   "cell_type": "code",
   "execution_count": 10,
   "id": "4b395da2-0a40-4c31-8a8c-6090e25e8d72",
   "metadata": {},
   "outputs": [
    {
     "data": {
      "text/plain": [
       "(3838,)"
      ]
     },
     "execution_count": 10,
     "metadata": {},
     "output_type": "execute_result"
    }
   ],
   "source": [
    "y_raw.shape"
   ]
  },
  {
   "cell_type": "code",
   "execution_count": 11,
   "id": "30339132-3f4e-4087-b276-c31dc00e3de3",
   "metadata": {},
   "outputs": [],
   "source": [
    "# Normalisation des données\n",
    "scaler_X = MinMaxScaler()\n"
   ]
  },
  {
   "cell_type": "code",
   "execution_count": 12,
   "id": "643e060c-c555-4ea6-8c6a-7e5c087ad218",
   "metadata": {},
   "outputs": [],
   "source": [
    "# Pour appliquer un scaler 2D, il faut aplatir les 3D en 2D temporairement\n",
    "n_samples, seq_len, n_features = X_raw.shape\n",
    "X_2d = X_raw.reshape(-1, n_features)  # [n_samples * seq_len, n_features]"
   ]
  },
  {
   "cell_type": "code",
   "execution_count": 13,
   "id": "8e29847c-139b-45cc-8075-2bfcafab3c90",
   "metadata": {},
   "outputs": [],
   "source": [
    "X_scaled_2d = scaler_X.fit_transform(X_2d)"
   ]
  },
  {
   "cell_type": "code",
   "execution_count": 14,
   "id": "a003fc81-43b3-4a87-8b83-c00a28c31a04",
   "metadata": {},
   "outputs": [],
   "source": [
    "# On reforme le tenseur original (même forme qu’au départ)\n",
    "X_scaled = X_scaled_2d.reshape(n_samples, seq_len, n_features)"
   ]
  },
  {
   "cell_type": "code",
   "execution_count": 15,
   "id": "3c935770-52c9-4802-a84e-7e7b5f546961",
   "metadata": {},
   "outputs": [],
   "source": [
    "# Scaler pour y (1D → 2D pour sklearn, puis retour en 1D)\n",
    "scaler_y = MinMaxScaler()\n",
    "y_scaled = scaler_y.fit_transform(y_raw.reshape(-1, 1)).flatten()"
   ]
  },
  {
   "cell_type": "code",
   "execution_count": 16,
   "id": "AookLg0s9_XT",
   "metadata": {
    "executionInfo": {
     "elapsed": 3,
     "status": "ok",
     "timestamp": 1745572707479,
     "user": {
      "displayName": "Peggy Souttre",
      "userId": "08744239975247454790"
     },
     "user_tz": -120
    },
    "id": "AookLg0s9_XT"
   },
   "outputs": [],
   "source": [
    "# Split train/test (80% / 20%)\n",
    "train_size = int(len(X_scaled) * 0.8)\n",
    "X_train, y_train = X_scaled[:train_size], y_scaled[:train_size]\n",
    "X_val, y_val = X_scaled[train_size:], y_scaled[train_size:]\n",
    "\n"
   ]
  },
  {
   "cell_type": "code",
   "execution_count": 17,
   "id": "NMdorlTguGyx",
   "metadata": {
    "executionInfo": {
     "elapsed": 2,
     "status": "ok",
     "timestamp": 1745572708424,
     "user": {
      "displayName": "Peggy Souttre",
      "userId": "08744239975247454790"
     },
     "user_tz": -120
    },
    "id": "NMdorlTguGyx"
   },
   "outputs": [],
   "source": [
    "# Conversion en tenseurs\n",
    "trainX = torch.tensor(X_train, dtype=torch.float32)   #(batch_size, sequence_length, input_size)\n",
    "trainY = torch.tensor(y_train[:, None], dtype=torch.float32)      # target en 2D pour la régression\n",
    "valX = torch.tensor(X_val, dtype=torch.float32)\n",
    "valY = torch.tensor(y_val[:, None], dtype=torch.float32)\n"
   ]
  },
  {
   "cell_type": "markdown",
   "id": "BaDDuOLA1Q64",
   "metadata": {
    "id": "BaDDuOLA1Q64"
   },
   "source": [
    "entrées pour le LSTM = trainX = (nb_sequences, seq_length, 1)\n",
    "sortie à prédire = train Y = (prix de clôture du jour suivant)"
   ]
  },
  {
   "cell_type": "code",
   "execution_count": 18,
   "id": "ef217896-eea9-49b3-b115-71cbdfe4ff5a",
   "metadata": {},
   "outputs": [
    {
     "name": "stdout",
     "output_type": "stream",
     "text": [
      "torch.Size([3070, 10, 5])\n"
     ]
    }
   ],
   "source": [
    "print(trainX.shape)"
   ]
  },
  {
   "cell_type": "code",
   "execution_count": 19,
   "id": "18da8de9-5cde-438b-81c3-4a704315e19d",
   "metadata": {},
   "outputs": [
    {
     "name": "stdout",
     "output_type": "stream",
     "text": [
      "torch.Size([768, 10, 5])\n"
     ]
    }
   ],
   "source": [
    "print(valX.shape)"
   ]
  },
  {
   "cell_type": "markdown",
   "id": "U5pNZ35t3IfP",
   "metadata": {
    "id": "U5pNZ35t3IfP"
   },
   "source": [
    "Définition du modèle\n"
   ]
  },
  {
   "cell_type": "code",
   "execution_count": 24,
   "id": "q3mfWd9XuG6o",
   "metadata": {
    "executionInfo": {
     "elapsed": 6,
     "status": "ok",
     "timestamp": 1745572713435,
     "user": {
      "displayName": "Peggy Souttre",
      "userId": "08744239975247454790"
     },
     "user_tz": -120
    },
    "id": "q3mfWd9XuG6o"
   },
   "outputs": [],
   "source": [
    "class LSTMModel(nn.Module):\n",
    "    def __init__(self, input_dim, hidden_dim, layer_dim, output_dim):\n",
    "        super(LSTMModel, self).__init__()\n",
    "        self.hidden_dim = hidden_dim\n",
    "        self.layer_dim = layer_dim\n",
    "        self.lstm = nn.LSTM(input_dim, hidden_dim, layer_dim, batch_first=True)    # Couche LSTM\n",
    "        self.fc = nn.Linear(hidden_dim, output_dim)                                # Couche dense\n",
    "\n",
    "    def forward(self, x, h0=None, c0=None):\n",
    "        if h0 is None or c0 is None:                                               # état caché initial\n",
    "            h0 = torch.zeros(self.layer_dim, x.size(0), self.hidden_dim).to(x.device)\n",
    "            c0 = torch.zeros(self.layer_dim, x.size(0), self.hidden_dim).to(x.device)\n",
    "\n",
    "        out, (hn, cn) = self.lstm(x, (h0, c0))                                     # sorties de chaque étape temporelle.\n",
    "        out = self.fc(out[:, -1, :])\n",
    "        return out, hn, cn                                                         # prédiction finale et état caché\n"
   ]
  },
  {
   "cell_type": "markdown",
   "id": "SudQP4hPDNgO",
   "metadata": {
    "id": "SudQP4hPDNgO"
   },
   "source": [
    "Initialisation du modèle,  de la fonction de perte et de l'optimiseur"
   ]
  },
  {
   "cell_type": "code",
   "execution_count": 25,
   "id": "b63a2690-889e-49d2-a9a7-9b630a2bf522",
   "metadata": {
    "executionInfo": {
     "elapsed": 4,
     "status": "ok",
     "timestamp": 1745572717018,
     "user": {
      "displayName": "Peggy Souttre",
      "userId": "08744239975247454790"
     },
     "user_tz": -120
    },
    "id": "b63a2690-889e-49d2-a9a7-9b630a2bf522"
   },
   "outputs": [],
   "source": [
    "# Modèle : instance de la classe avec dimensions d'entrée et de sortie spécifiées, des unités cachées et un nombre de couches LSTM.LSTMModel\n",
    "model = LSTMModel(input_dim=5, hidden_dim=256, layer_dim=1, output_dim=1)\n",
    "\n",
    "# Fonction de perte : perte d'erreur quadratique moyenne (MSE) pour les tâches de régression.\n",
    "criterion = nn.MSELoss()\n",
    "\n",
    "# Optimiseur Adam\n",
    "optimizer = torch.optim.Adam(model.parameters(), lr=0.001)\n"
   ]
  },
  {
   "cell_type": "markdown",
   "id": "UYYeL5TkDhow",
   "metadata": {
    "id": "UYYeL5TkDhow"
   },
   "source": [
    "Entraînement du modèle"
   ]
  },
  {
   "cell_type": "code",
   "execution_count": 26,
   "id": "mHPM6YI8DaQ2",
   "metadata": {
    "colab": {
     "base_uri": "https://localhost:8080/"
    },
    "executionInfo": {
     "elapsed": 82497,
     "status": "ok",
     "timestamp": 1745573582588,
     "user": {
      "displayName": "Peggy Souttre",
      "userId": "08744239975247454790"
     },
     "user_tz": -120
    },
    "id": "mHPM6YI8DaQ2",
    "outputId": "f577e267-6f2b-46c0-8760-4e2937b15f12"
   },
   "outputs": [
    {
     "name": "stdout",
     "output_type": "stream",
     "text": [
      "Epoch 10/150 - Train Loss: 0.01109890 - Val Loss: 0.0891\n",
      "Epoch 20/150 - Train Loss: 0.00170517 - Val Loss: 0.0066\n",
      "Epoch 30/150 - Train Loss: 0.00148850 - Val Loss: 0.0137\n",
      "Epoch 40/150 - Train Loss: 0.00084265 - Val Loss: 0.0025\n",
      "Epoch 50/150 - Train Loss: 0.00012032 - Val Loss: 0.0014\n",
      "Epoch 60/150 - Train Loss: 0.00014809 - Val Loss: 0.0031\n",
      "Epoch 70/150 - Train Loss: 0.00011818 - Val Loss: 0.0008\n",
      "Epoch 80/150 - Train Loss: 0.00008334 - Val Loss: 0.0010\n",
      "Epoch 90/150 - Train Loss: 0.00008206 - Val Loss: 0.0013\n",
      "Epoch 100/150 - Train Loss: 0.00007322 - Val Loss: 0.0011\n",
      "Epoch 110/150 - Train Loss: 0.00006991 - Val Loss: 0.0009\n",
      "Epoch 120/150 - Train Loss: 0.00006595 - Val Loss: 0.0008\n",
      "Epoch 130/150 - Train Loss: 0.00006279 - Val Loss: 0.0008\n",
      "Epoch 140/150 - Train Loss: 0.00006003 - Val Loss: 0.0008\n",
      "Epoch 150/150 - Train Loss: 0.00005753 - Val Loss: 0.0007\n"
     ]
    }
   ],
   "source": [
    "num_epochs = 150\n",
    "h0, c0 = None, None\n",
    "\n",
    "train_losses = []\n",
    "val_losses = []\n",
    "\n",
    "for epoch in range(num_epochs):\n",
    "    model.train()                                            # passe le modèle en mode d'entraînement.\n",
    "    optimizer.zero_grad()\n",
    "\n",
    "    outputs, h0, c0 = model(trainX, h0, c0)\n",
    "\n",
    "    loss = criterion(outputs, trainY)                        # comparaison des prédictions (outputs) au label réel (trainY).\n",
    "    loss.backward()                                          # calcul des gradients.\n",
    "    optimizer.step()                                         # mise à jour des poids du modèle.\n",
    "\n",
    "    h0 = h0.detach()\n",
    "    c0 = c0.detach()\n",
    "\n",
    "    train_losses.append(loss.item())\n",
    "\n",
    "    # Validation loss\n",
    "    model.eval()\n",
    "    with torch.no_grad():\n",
    "        val_pred, _, _ = model(valX)\n",
    "        val_loss = criterion(val_pred, valY)\n",
    "        val_losses.append(val_loss.item())\n",
    "\n",
    "    if (epoch+1) % 10 == 0:\n",
    "        print(f\"Epoch {epoch+1}/{num_epochs} - Train Loss: {loss.item():.8f} - Val Loss: {val_loss.item():.4f}\")\n",
    "\n"
   ]
  },
  {
   "cell_type": "markdown",
   "id": "84d9d8f8-782d-4f44-b4b3-a0c5179272d6",
   "metadata": {},
   "source": [
    "Évaluation sur validation/test set"
   ]
  },
  {
   "cell_type": "code",
   "execution_count": 27,
   "id": "DZ6ay_c3KiFy",
   "metadata": {
    "colab": {
     "base_uri": "https://localhost:8080/"
    },
    "executionInfo": {
     "elapsed": 70,
     "status": "ok",
     "timestamp": 1745572781472,
     "user": {
      "displayName": "Peggy Souttre",
      "userId": "08744239975247454790"
     },
     "user_tz": -120
    },
    "id": "DZ6ay_c3KiFy",
    "outputId": "58b54fe0-00b4-4a2c-f6b6-6bafb7eccda3"
   },
   "outputs": [
    {
     "name": "stdout",
     "output_type": "stream",
     "text": [
      "✅ MAE: 5.02 | RMSE: 6.74\n"
     ]
    }
   ],
   "source": [
    "\n",
    "model.eval()\n",
    "with torch.no_grad():                                                         # on désactive le calcul des gradients\n",
    "    predicted_val, _, _ = model(valX)\n",
    "    predicted_val_np = predicted_val.numpy().flatten()\n",
    "    y_val_np = valY.numpy().flatten()\n",
    "\n",
    "    # Dénormalisation\n",
    "    predicted_val_denorm = scaler_y.inverse_transform(predicted_val_np.reshape(-1, 1)).flatten()\n",
    "    y_val_denorm = scaler_y.inverse_transform(y_val_np.reshape(-1, 1)).flatten()\n",
    "\n",
    "\n",
    "    mae = mean_absolute_error(y_val_denorm, predicted_val_denorm)\n",
    "    rmse = math.sqrt(mean_squared_error(y_val_denorm, predicted_val_denorm))\n",
    "\n",
    "    print(f\"✅ MAE: {mae:.2f} | RMSE: {rmse:.2f}\")"
   ]
  },
  {
   "cell_type": "code",
   "execution_count": 31,
   "id": "dd716ea1-9731-4bcc-87be-4c96b9475a02",
   "metadata": {},
   "outputs": [
    {
     "data": {
      "image/png": "[encoded data removed]",
      "text/plain": [
       "<Figure size 1400x700 with 1 Axes>"
      ]
     },
     "metadata": {},
     "output_type": "display_data"
    },
    {
     "name": "stdout",
     "output_type": "stream",
     "text": [
      "MAE: 5.0181\n",
      "RMSE: 6.7405\n"
     ]
    }
   ],
   "source": [
    "# Préparer les données pour la visualisation\n",
    "model.eval()\n",
    "with torch.no_grad():\n",
    "    # Faire des prédictions sur l'ensemble de validation\n",
    "    predicted_val, _, _ = model(valX)\n",
    "    \n",
    "    # Convertir en numpy et dénormaliser\n",
    "    predicted_val_np = predicted_val.numpy().flatten()\n",
    "    y_val_np = valY.numpy().flatten()\n",
    "    \n",
    "    # Dénormalisation\n",
    "    predicted_val_denorm = scaler_y.inverse_transform(predicted_val_np.reshape(-1, 1)).flatten()\n",
    "    y_val_denorm = scaler_y.inverse_transform(y_val_np.reshape(-1, 1)).flatten()\n",
    "    \n",
    "    # Calculer les indices correspondants dans les données originales\n",
    "    # train_size + seq_length est le point de départ de l'ensemble de validation\n",
    "    val_indices = np.arange(train_size + seq_length, train_size + seq_length + len(predicted_val_denorm))\n",
    "    \n",
    "    # Récupérer les valeurs \"close\" originales pour ces indices\n",
    "    original_close = data['close'].values\n",
    "    \n",
    "    # Créer un graphique\n",
    "    plt.figure(figsize=(14, 7))\n",
    "    \n",
    "    # Tracer les données originales\n",
    "    plt.plot(original_close[val_indices], label='Données originales (close)', color='blue')\n",
    "    \n",
    "    # Tracer les prédictions\n",
    "    plt.plot(predicted_val_denorm, label='Prédictions du modèle', color='red', linestyle='--')\n",
    "    \n",
    "    # Personnaliser le graphique\n",
    "    plt.title('Comparaison des données originales et des prédictions du modèle LSTM')\n",
    "    plt.xlabel('Échantillons de l\\'ensemble de validation')\n",
    "    plt.ylabel('Prix de clôture')\n",
    "    plt.legend()\n",
    "    plt.grid(True, alpha=0.3)\n",
    "    \n",
    "    # Afficher le graphique\n",
    "    plt.tight_layout()\n",
    "    plt.show()\n",
    "    \n",
    "    # Afficher les métriques d'erreur\n",
    "    print(f\"MAE: {mae:.4f}\")\n",
    "    print(f\"RMSE: {rmse:.4f}\")"
   ]
  },
  {
   "cell_type": "code",
   "execution_count": 32,
   "id": "GI7QGSQyACmG",
   "metadata": {
    "colab": {
     "base_uri": "https://localhost:8080/",
     "height": 472
    },
    "executionInfo": {
     "elapsed": 162,
     "status": "ok",
     "timestamp": 1745572797177,
     "user": {
      "displayName": "Peggy Souttre",
      "userId": "08744239975247454790"
     },
     "user_tz": -120
    },
    "id": "GI7QGSQyACmG",
    "outputId": "d30df28a-3eff-49fa-d4f9-ecdd90614e28"
   },
   "outputs": [
    {
     "data": {
      "image/png": "[encoded data removed]",
      "text/plain": [
       "<Figure size 640x480 with 1 Axes>"
      ]
     },
     "metadata": {},
     "output_type": "display_data"
    }
   ],
   "source": [
    "plt.plot(train_losses, label='Train Loss')\n",
    "plt.plot(val_losses, label='Val Loss')\n",
    "plt.xlabel(\"Epoch\")\n",
    "plt.ylabel(\"Loss\")\n",
    "plt.legend()\n",
    "plt.title(\"Training vs Validation Loss\")\n",
    "plt.show()\n"
   ]
  },
  {
   "cell_type": "markdown",
   "id": "40d2829c",
   "metadata": {},
   "source": [
    "Features engineering"
   ]
  },
  {
   "cell_type": "code",
   "execution_count": 33,
   "id": "688030c0-eba4-44f8-82d5-86b75b7954fe",
   "metadata": {},
   "outputs": [],
   "source": [
    "from tti.indicators._relative_strength_index import RelativeStrengthIndex\n",
    "from tti.indicators._stochastic_oscillator import StochasticOscillator\n",
    "from tti.indicators._standard_deviation import StandardDeviation\n",
    "from tti.indicators._moving_average_convergence_divergence import MovingAverageConvergenceDivergence\n",
    "from tti.indicators._ichimoku_cloud import IchimokuCloud\n",
    "from tti.indicators._bollinger_bands import BollingerBands\n",
    "from tti.indicators._average_true_range import AverageTrueRange"
   ]
  },
  {
   "cell_type": "code",
   "execution_count": 34,
   "id": "95ee272f-6d9b-4eb5-81b4-e5edb87985da",
   "metadata": {},
   "outputs": [],
   "source": [
    "indicators = {\"rsi\": RelativeStrengthIndex, \n",
    "              \"stochastic_oscillator\": StochasticOscillator, \n",
    "              \"standard_deviation\": StandardDeviation, \n",
    "              \"macd\": MovingAverageConvergenceDivergence, \n",
    "              \"ichimoku_cloud\": IchimokuCloud, \n",
    "              \"bollinger_bands\": BollingerBands, \n",
    "              \"atr\": AverageTrueRange}"
   ]
  },
  {
   "cell_type": "code",
   "execution_count": 35,
   "id": "4e8b33b5-c5f4-469b-bea8-debeb43ac091",
   "metadata": {},
   "outputs": [
    {
     "name": "stderr",
     "output_type": "stream",
     "text": [
      "c:\\Users\\peggy\\Documents\\Fabeon\\deep_learning\\brief_15bis\\tti\\utils\\data_preprocessing.py:32: FutureWarning: DataFrame.fillna with 'method' is deprecated and will raise in a future version. Use obj.ffill() or obj.bfill() instead.\n",
      "  data.fillna(method='ffill', inplace=True)\n",
      "c:\\Users\\peggy\\Documents\\Fabeon\\deep_learning\\brief_15bis\\tti\\utils\\data_preprocessing.py:33: FutureWarning: DataFrame.fillna with 'method' is deprecated and will raise in a future version. Use obj.ffill() or obj.bfill() instead.\n",
      "  data.fillna(method='bfill', inplace=True)\n",
      "c:\\Users\\peggy\\Documents\\Fabeon\\deep_learning\\brief_15bis\\tti\\utils\\data_preprocessing.py:32: FutureWarning: DataFrame.fillna with 'method' is deprecated and will raise in a future version. Use obj.ffill() or obj.bfill() instead.\n",
      "  data.fillna(method='ffill', inplace=True)\n",
      "c:\\Users\\peggy\\Documents\\Fabeon\\deep_learning\\brief_15bis\\tti\\utils\\data_preprocessing.py:33: FutureWarning: DataFrame.fillna with 'method' is deprecated and will raise in a future version. Use obj.ffill() or obj.bfill() instead.\n",
      "  data.fillna(method='bfill', inplace=True)\n",
      "c:\\Users\\peggy\\Documents\\Fabeon\\deep_learning\\brief_15bis\\tti\\indicators\\_stochastic_oscillator.py:163: FutureWarning: The 'axis' keyword in Series.rolling is deprecated and will be removed in a future version. Call the method without the axis keyword instead.\n",
      "  so.rolling(window=self._d_periods, min_periods=self._d_periods,\n",
      "c:\\Users\\peggy\\Documents\\Fabeon\\deep_learning\\brief_15bis\\tti\\utils\\data_preprocessing.py:32: FutureWarning: DataFrame.fillna with 'method' is deprecated and will raise in a future version. Use obj.ffill() or obj.bfill() instead.\n",
      "  data.fillna(method='ffill', inplace=True)\n",
      "c:\\Users\\peggy\\Documents\\Fabeon\\deep_learning\\brief_15bis\\tti\\utils\\data_preprocessing.py:33: FutureWarning: DataFrame.fillna with 'method' is deprecated and will raise in a future version. Use obj.ffill() or obj.bfill() instead.\n",
      "  data.fillna(method='bfill', inplace=True)\n",
      "c:\\Users\\peggy\\Documents\\Fabeon\\deep_learning\\brief_15bis\\tti\\indicators\\_standard_deviation.py:85: FutureWarning: The 'axis' keyword in DataFrame.rolling is deprecated and will be removed in a future version. Call the method without the axis keyword instead.\n",
      "  sd = self._input_data.rolling(\n",
      "c:\\Users\\peggy\\Documents\\Fabeon\\deep_learning\\brief_15bis\\tti\\utils\\data_preprocessing.py:32: FutureWarning: DataFrame.fillna with 'method' is deprecated and will raise in a future version. Use obj.ffill() or obj.bfill() instead.\n",
      "  data.fillna(method='ffill', inplace=True)\n",
      "c:\\Users\\peggy\\Documents\\Fabeon\\deep_learning\\brief_15bis\\tti\\utils\\data_preprocessing.py:33: FutureWarning: DataFrame.fillna with 'method' is deprecated and will raise in a future version. Use obj.ffill() or obj.bfill() instead.\n",
      "  data.fillna(method='bfill', inplace=True)\n",
      "c:\\Users\\peggy\\Documents\\Fabeon\\deep_learning\\brief_15bis\\tti\\indicators\\_moving_average_convergence_divergence.py:72: FutureWarning: The 'axis' keyword in DataFrame.ewm is deprecated and will be removed in a future version. Call the method without the axis keyword instead.\n",
      "  ema_26 = self._input_data.ewm(span=26, min_periods=26, adjust=False,\n",
      "c:\\Users\\peggy\\Documents\\Fabeon\\deep_learning\\brief_15bis\\tti\\indicators\\_moving_average_convergence_divergence.py:76: FutureWarning: The 'axis' keyword in DataFrame.ewm is deprecated and will be removed in a future version. Call the method without the axis keyword instead.\n",
      "  ema_12 = self._input_data.ewm(span=12, min_periods=12, adjust=False,\n",
      "c:\\Users\\peggy\\Documents\\Fabeon\\deep_learning\\brief_15bis\\tti\\indicators\\_moving_average_convergence_divergence.py:81: FutureWarning: The 'axis' keyword in DataFrame.ewm is deprecated and will be removed in a future version. Call the method without the axis keyword instead.\n",
      "  macd = pd.concat([macd, macd.ewm(span=9, min_periods=9, adjust=False,\n",
      "c:\\Users\\peggy\\Documents\\Fabeon\\deep_learning\\brief_15bis\\tti\\utils\\data_preprocessing.py:32: FutureWarning: DataFrame.fillna with 'method' is deprecated and will raise in a future version. Use obj.ffill() or obj.bfill() instead.\n",
      "  data.fillna(method='ffill', inplace=True)\n",
      "c:\\Users\\peggy\\Documents\\Fabeon\\deep_learning\\brief_15bis\\tti\\utils\\data_preprocessing.py:33: FutureWarning: DataFrame.fillna with 'method' is deprecated and will raise in a future version. Use obj.ffill() or obj.bfill() instead.\n",
      "  data.fillna(method='bfill', inplace=True)\n",
      "c:\\Users\\peggy\\Documents\\Fabeon\\deep_learning\\brief_15bis\\tti\\utils\\data_preprocessing.py:32: FutureWarning: DataFrame.fillna with 'method' is deprecated and will raise in a future version. Use obj.ffill() or obj.bfill() instead.\n",
      "  data.fillna(method='ffill', inplace=True)\n",
      "c:\\Users\\peggy\\Documents\\Fabeon\\deep_learning\\brief_15bis\\tti\\utils\\data_preprocessing.py:33: FutureWarning: DataFrame.fillna with 'method' is deprecated and will raise in a future version. Use obj.ffill() or obj.bfill() instead.\n",
      "  data.fillna(method='bfill', inplace=True)\n",
      "c:\\Users\\peggy\\Documents\\Fabeon\\deep_learning\\brief_15bis\\tti\\indicators\\_bollinger_bands.py:100: FutureWarning: The 'axis' keyword in DataFrame.rolling is deprecated and will be removed in a future version. Call the method without the axis keyword instead.\n",
      "  bb = self._input_data.rolling(\n",
      "c:\\Users\\peggy\\Documents\\Fabeon\\deep_learning\\brief_15bis\\tti\\indicators\\_bollinger_bands.py:105: FutureWarning: The 'axis' keyword in DataFrame.rolling is deprecated and will be removed in a future version. Call the method without the axis keyword instead.\n",
      "  standard_deviation = self._input_data.rolling(\n",
      "c:\\Users\\peggy\\Documents\\Fabeon\\deep_learning\\brief_15bis\\tti\\utils\\data_preprocessing.py:32: FutureWarning: DataFrame.fillna with 'method' is deprecated and will raise in a future version. Use obj.ffill() or obj.bfill() instead.\n",
      "  data.fillna(method='ffill', inplace=True)\n",
      "c:\\Users\\peggy\\Documents\\Fabeon\\deep_learning\\brief_15bis\\tti\\utils\\data_preprocessing.py:33: FutureWarning: DataFrame.fillna with 'method' is deprecated and will raise in a future version. Use obj.ffill() or obj.bfill() instead.\n",
      "  data.fillna(method='bfill', inplace=True)\n"
     ]
    }
   ],
   "source": [
    "# Ajout d'indicateurs à la dataframe\n",
    "for indc_name, indc in indicators.items():\n",
    "    indc_instance = indc(data)\n",
    "    indc_data = indc_instance.getTiData()\n",
    "    data[indc_data.columns] = indc_data"
   ]
  },
  {
   "cell_type": "code",
   "execution_count": 36,
   "id": "d2aaccf6-10b7-43c4-a953-221d170baf34",
   "metadata": {},
   "outputs": [
    {
     "data": {
      "text/html": [
       "<div>\n",
       "<style scoped>\n",
       "    .dataframe tbody tr th:only-of-type {\n",
       "        vertical-align: middle;\n",
       "    }\n",
       "\n",
       "    .dataframe tbody tr th {\n",
       "        vertical-align: top;\n",
       "    }\n",
       "\n",
       "    .dataframe thead th {\n",
       "        text-align: right;\n",
       "    }\n",
       "</style>\n",
       "<table border=\"1\" class=\"dataframe\">\n",
       "  <thead>\n",
       "    <tr style=\"text-align: right;\">\n",
       "      <th></th>\n",
       "      <th>open</th>\n",
       "      <th>high</th>\n",
       "      <th>low</th>\n",
       "      <th>close</th>\n",
       "      <th>volume</th>\n",
       "      <th>rsi</th>\n",
       "      <th>%k</th>\n",
       "      <th>%d</th>\n",
       "      <th>sd</th>\n",
       "      <th>macd</th>\n",
       "      <th>signal_line</th>\n",
       "      <th>tenkan_sen</th>\n",
       "      <th>kijun_sen</th>\n",
       "      <th>senkou_a</th>\n",
       "      <th>senkou_b</th>\n",
       "      <th>middle_band</th>\n",
       "      <th>upper_band</th>\n",
       "      <th>lower_band</th>\n",
       "      <th>atr</th>\n",
       "    </tr>\n",
       "    <tr>\n",
       "      <th>date</th>\n",
       "      <th></th>\n",
       "      <th></th>\n",
       "      <th></th>\n",
       "      <th></th>\n",
       "      <th></th>\n",
       "      <th></th>\n",
       "      <th></th>\n",
       "      <th></th>\n",
       "      <th></th>\n",
       "      <th></th>\n",
       "      <th></th>\n",
       "      <th></th>\n",
       "      <th></th>\n",
       "      <th></th>\n",
       "      <th></th>\n",
       "      <th></th>\n",
       "      <th></th>\n",
       "      <th></th>\n",
       "      <th></th>\n",
       "    </tr>\n",
       "  </thead>\n",
       "  <tbody>\n",
       "    <tr>\n",
       "      <th>2010-01-04</th>\n",
       "      <td>7.62</td>\n",
       "      <td>7.66</td>\n",
       "      <td>7.58</td>\n",
       "      <td>7.64</td>\n",
       "      <td>493729600</td>\n",
       "      <td>NaN</td>\n",
       "      <td>NaN</td>\n",
       "      <td>NaN</td>\n",
       "      <td>NaN</td>\n",
       "      <td>NaN</td>\n",
       "      <td>NaN</td>\n",
       "      <td>7.620</td>\n",
       "      <td>7.620</td>\n",
       "      <td>NaN</td>\n",
       "      <td>NaN</td>\n",
       "      <td>NaN</td>\n",
       "      <td>NaN</td>\n",
       "      <td>NaN</td>\n",
       "      <td>NaN</td>\n",
       "    </tr>\n",
       "    <tr>\n",
       "      <th>2010-01-05</th>\n",
       "      <td>7.66</td>\n",
       "      <td>7.70</td>\n",
       "      <td>7.62</td>\n",
       "      <td>7.66</td>\n",
       "      <td>601904800</td>\n",
       "      <td>NaN</td>\n",
       "      <td>NaN</td>\n",
       "      <td>NaN</td>\n",
       "      <td>NaN</td>\n",
       "      <td>NaN</td>\n",
       "      <td>NaN</td>\n",
       "      <td>7.640</td>\n",
       "      <td>7.640</td>\n",
       "      <td>NaN</td>\n",
       "      <td>NaN</td>\n",
       "      <td>NaN</td>\n",
       "      <td>NaN</td>\n",
       "      <td>NaN</td>\n",
       "      <td>NaN</td>\n",
       "    </tr>\n",
       "    <tr>\n",
       "      <th>2010-01-06</th>\n",
       "      <td>7.66</td>\n",
       "      <td>7.69</td>\n",
       "      <td>7.53</td>\n",
       "      <td>7.53</td>\n",
       "      <td>552160000</td>\n",
       "      <td>NaN</td>\n",
       "      <td>NaN</td>\n",
       "      <td>NaN</td>\n",
       "      <td>NaN</td>\n",
       "      <td>NaN</td>\n",
       "      <td>NaN</td>\n",
       "      <td>7.615</td>\n",
       "      <td>7.615</td>\n",
       "      <td>NaN</td>\n",
       "      <td>NaN</td>\n",
       "      <td>NaN</td>\n",
       "      <td>NaN</td>\n",
       "      <td>NaN</td>\n",
       "      <td>NaN</td>\n",
       "    </tr>\n",
       "    <tr>\n",
       "      <th>2010-01-07</th>\n",
       "      <td>7.56</td>\n",
       "      <td>7.57</td>\n",
       "      <td>7.47</td>\n",
       "      <td>7.52</td>\n",
       "      <td>477131200</td>\n",
       "      <td>NaN</td>\n",
       "      <td>NaN</td>\n",
       "      <td>NaN</td>\n",
       "      <td>NaN</td>\n",
       "      <td>NaN</td>\n",
       "      <td>NaN</td>\n",
       "      <td>7.585</td>\n",
       "      <td>7.585</td>\n",
       "      <td>NaN</td>\n",
       "      <td>NaN</td>\n",
       "      <td>NaN</td>\n",
       "      <td>NaN</td>\n",
       "      <td>NaN</td>\n",
       "      <td>NaN</td>\n",
       "    </tr>\n",
       "    <tr>\n",
       "      <th>2010-01-08</th>\n",
       "      <td>7.51</td>\n",
       "      <td>7.57</td>\n",
       "      <td>7.47</td>\n",
       "      <td>7.57</td>\n",
       "      <td>447876740</td>\n",
       "      <td>NaN</td>\n",
       "      <td>NaN</td>\n",
       "      <td>NaN</td>\n",
       "      <td>NaN</td>\n",
       "      <td>NaN</td>\n",
       "      <td>NaN</td>\n",
       "      <td>7.585</td>\n",
       "      <td>7.585</td>\n",
       "      <td>NaN</td>\n",
       "      <td>NaN</td>\n",
       "      <td>NaN</td>\n",
       "      <td>NaN</td>\n",
       "      <td>NaN</td>\n",
       "      <td>NaN</td>\n",
       "    </tr>\n",
       "    <tr>\n",
       "      <th>...</th>\n",
       "      <td>...</td>\n",
       "      <td>...</td>\n",
       "      <td>...</td>\n",
       "      <td>...</td>\n",
       "      <td>...</td>\n",
       "      <td>...</td>\n",
       "      <td>...</td>\n",
       "      <td>...</td>\n",
       "      <td>...</td>\n",
       "      <td>...</td>\n",
       "      <td>...</td>\n",
       "      <td>...</td>\n",
       "      <td>...</td>\n",
       "      <td>...</td>\n",
       "      <td>...</td>\n",
       "      <td>...</td>\n",
       "      <td>...</td>\n",
       "      <td>...</td>\n",
       "      <td>...</td>\n",
       "    </tr>\n",
       "    <tr>\n",
       "      <th>2025-04-14</th>\n",
       "      <td>211.44</td>\n",
       "      <td>212.94</td>\n",
       "      <td>201.16</td>\n",
       "      <td>202.52</td>\n",
       "      <td>101352911</td>\n",
       "      <td>45.6690</td>\n",
       "      <td>59.0498</td>\n",
       "      <td>49.3175</td>\n",
       "      <td>15.3828</td>\n",
       "      <td>-8.9950</td>\n",
       "      <td>-8.3474</td>\n",
       "      <td>197.200</td>\n",
       "      <td>202.685</td>\n",
       "      <td>238.7325</td>\n",
       "      <td>239.740</td>\n",
       "      <td>208.6330</td>\n",
       "      <td>239.3986</td>\n",
       "      <td>177.8674</td>\n",
       "      <td>11.6030</td>\n",
       "    </tr>\n",
       "    <tr>\n",
       "      <th>2025-04-15</th>\n",
       "      <td>201.86</td>\n",
       "      <td>203.51</td>\n",
       "      <td>199.80</td>\n",
       "      <td>202.14</td>\n",
       "      <td>51343900</td>\n",
       "      <td>45.4755</td>\n",
       "      <td>58.3762</td>\n",
       "      <td>56.2430</td>\n",
       "      <td>15.4155</td>\n",
       "      <td>-8.2192</td>\n",
       "      <td>-8.3218</td>\n",
       "      <td>191.075</td>\n",
       "      <td>197.525</td>\n",
       "      <td>235.8550</td>\n",
       "      <td>239.740</td>\n",
       "      <td>208.1055</td>\n",
       "      <td>238.9364</td>\n",
       "      <td>177.2746</td>\n",
       "      <td>11.0392</td>\n",
       "    </tr>\n",
       "    <tr>\n",
       "      <th>2025-04-16</th>\n",
       "      <td>198.36</td>\n",
       "      <td>200.70</td>\n",
       "      <td>192.37</td>\n",
       "      <td>194.27</td>\n",
       "      <td>59732423</td>\n",
       "      <td>41.5569</td>\n",
       "      <td>44.4247</td>\n",
       "      <td>53.9502</td>\n",
       "      <td>15.6065</td>\n",
       "      <td>-8.1457</td>\n",
       "      <td>-8.2866</td>\n",
       "      <td>191.075</td>\n",
       "      <td>197.415</td>\n",
       "      <td>232.2325</td>\n",
       "      <td>238.775</td>\n",
       "      <td>207.0570</td>\n",
       "      <td>238.2700</td>\n",
       "      <td>175.8440</td>\n",
       "      <td>10.9485</td>\n",
       "    </tr>\n",
       "    <tr>\n",
       "      <th>2025-04-17</th>\n",
       "      <td>197.20</td>\n",
       "      <td>198.83</td>\n",
       "      <td>194.42</td>\n",
       "      <td>196.98</td>\n",
       "      <td>52164675</td>\n",
       "      <td>43.3663</td>\n",
       "      <td>49.2289</td>\n",
       "      <td>50.6766</td>\n",
       "      <td>15.6661</td>\n",
       "      <td>-7.7791</td>\n",
       "      <td>-8.1851</td>\n",
       "      <td>191.075</td>\n",
       "      <td>197.415</td>\n",
       "      <td>230.9625</td>\n",
       "      <td>237.505</td>\n",
       "      <td>206.2010</td>\n",
       "      <td>237.5333</td>\n",
       "      <td>174.8687</td>\n",
       "      <td>10.4922</td>\n",
       "    </tr>\n",
       "    <tr>\n",
       "      <th>2025-04-21</th>\n",
       "      <td>193.27</td>\n",
       "      <td>193.80</td>\n",
       "      <td>189.81</td>\n",
       "      <td>193.16</td>\n",
       "      <td>45860324</td>\n",
       "      <td>41.4194</td>\n",
       "      <td>42.7831</td>\n",
       "      <td>45.4789</td>\n",
       "      <td>15.6548</td>\n",
       "      <td>-7.7079</td>\n",
       "      <td>-8.0896</td>\n",
       "      <td>191.075</td>\n",
       "      <td>197.415</td>\n",
       "      <td>227.7175</td>\n",
       "      <td>234.260</td>\n",
       "      <td>204.9455</td>\n",
       "      <td>236.2550</td>\n",
       "      <td>173.6360</td>\n",
       "      <td>10.2549</td>\n",
       "    </tr>\n",
       "  </tbody>\n",
       "</table>\n",
       "<p>3848 rows × 19 columns</p>\n",
       "</div>"
      ],
      "text/plain": [
       "              open    high     low   close     volume      rsi       %k  \\\n",
       "date                                                                      \n",
       "2010-01-04    7.62    7.66    7.58    7.64  493729600      NaN      NaN   \n",
       "2010-01-05    7.66    7.70    7.62    7.66  601904800      NaN      NaN   \n",
       "2010-01-06    7.66    7.69    7.53    7.53  552160000      NaN      NaN   \n",
       "2010-01-07    7.56    7.57    7.47    7.52  477131200      NaN      NaN   \n",
       "2010-01-08    7.51    7.57    7.47    7.57  447876740      NaN      NaN   \n",
       "...            ...     ...     ...     ...        ...      ...      ...   \n",
       "2025-04-14  211.44  212.94  201.16  202.52  101352911  45.6690  59.0498   \n",
       "2025-04-15  201.86  203.51  199.80  202.14   51343900  45.4755  58.3762   \n",
       "2025-04-16  198.36  200.70  192.37  194.27   59732423  41.5569  44.4247   \n",
       "2025-04-17  197.20  198.83  194.42  196.98   52164675  43.3663  49.2289   \n",
       "2025-04-21  193.27  193.80  189.81  193.16   45860324  41.4194  42.7831   \n",
       "\n",
       "                 %d       sd    macd  signal_line  tenkan_sen  kijun_sen  \\\n",
       "date                                                                       \n",
       "2010-01-04      NaN      NaN     NaN          NaN       7.620      7.620   \n",
       "2010-01-05      NaN      NaN     NaN          NaN       7.640      7.640   \n",
       "2010-01-06      NaN      NaN     NaN          NaN       7.615      7.615   \n",
       "2010-01-07      NaN      NaN     NaN          NaN       7.585      7.585   \n",
       "2010-01-08      NaN      NaN     NaN          NaN       7.585      7.585   \n",
       "...             ...      ...     ...          ...         ...        ...   \n",
       "2025-04-14  49.3175  15.3828 -8.9950      -8.3474     197.200    202.685   \n",
       "2025-04-15  56.2430  15.4155 -8.2192      -8.3218     191.075    197.525   \n",
       "2025-04-16  53.9502  15.6065 -8.1457      -8.2866     191.075    197.415   \n",
       "2025-04-17  50.6766  15.6661 -7.7791      -8.1851     191.075    197.415   \n",
       "2025-04-21  45.4789  15.6548 -7.7079      -8.0896     191.075    197.415   \n",
       "\n",
       "            senkou_a  senkou_b  middle_band  upper_band  lower_band      atr  \n",
       "date                                                                          \n",
       "2010-01-04       NaN       NaN          NaN         NaN         NaN      NaN  \n",
       "2010-01-05       NaN       NaN          NaN         NaN         NaN      NaN  \n",
       "2010-01-06       NaN       NaN          NaN         NaN         NaN      NaN  \n",
       "2010-01-07       NaN       NaN          NaN         NaN         NaN      NaN  \n",
       "2010-01-08       NaN       NaN          NaN         NaN         NaN      NaN  \n",
       "...              ...       ...          ...         ...         ...      ...  \n",
       "2025-04-14  238.7325   239.740     208.6330    239.3986    177.8674  11.6030  \n",
       "2025-04-15  235.8550   239.740     208.1055    238.9364    177.2746  11.0392  \n",
       "2025-04-16  232.2325   238.775     207.0570    238.2700    175.8440  10.9485  \n",
       "2025-04-17  230.9625   237.505     206.2010    237.5333    174.8687  10.4922  \n",
       "2025-04-21  227.7175   234.260     204.9455    236.2550    173.6360  10.2549  \n",
       "\n",
       "[3848 rows x 19 columns]"
      ]
     },
     "execution_count": 36,
     "metadata": {},
     "output_type": "execute_result"
    }
   ],
   "source": [
    "data\n"
   ]
  },
  {
   "cell_type": "code",
   "execution_count": 37,
   "id": "c9ac12e8",
   "metadata": {},
   "outputs": [
    {
     "data": {
      "text/html": [
       "<div>\n",
       "<style scoped>\n",
       "    .dataframe tbody tr th:only-of-type {\n",
       "        vertical-align: middle;\n",
       "    }\n",
       "\n",
       "    .dataframe tbody tr th {\n",
       "        vertical-align: top;\n",
       "    }\n",
       "\n",
       "    .dataframe thead th {\n",
       "        text-align: right;\n",
       "    }\n",
       "</style>\n",
       "<table border=\"1\" class=\"dataframe\">\n",
       "  <thead>\n",
       "    <tr style=\"text-align: right;\">\n",
       "      <th></th>\n",
       "      <th>missing</th>\n",
       "      <th>total</th>\n",
       "      <th>percent</th>\n",
       "    </tr>\n",
       "  </thead>\n",
       "  <tbody>\n",
       "    <tr>\n",
       "      <th>signal_line</th>\n",
       "      <td>33</td>\n",
       "      <td>3848</td>\n",
       "      <td>0.857588</td>\n",
       "    </tr>\n",
       "    <tr>\n",
       "      <th>senkou_b</th>\n",
       "      <td>26</td>\n",
       "      <td>3848</td>\n",
       "      <td>0.675676</td>\n",
       "    </tr>\n",
       "    <tr>\n",
       "      <th>senkou_a</th>\n",
       "      <td>26</td>\n",
       "      <td>3848</td>\n",
       "      <td>0.675676</td>\n",
       "    </tr>\n",
       "    <tr>\n",
       "      <th>macd</th>\n",
       "      <td>25</td>\n",
       "      <td>3848</td>\n",
       "      <td>0.649688</td>\n",
       "    </tr>\n",
       "    <tr>\n",
       "      <th>lower_band</th>\n",
       "      <td>19</td>\n",
       "      <td>3848</td>\n",
       "      <td>0.493763</td>\n",
       "    </tr>\n",
       "    <tr>\n",
       "      <th>upper_band</th>\n",
       "      <td>19</td>\n",
       "      <td>3848</td>\n",
       "      <td>0.493763</td>\n",
       "    </tr>\n",
       "    <tr>\n",
       "      <th>middle_band</th>\n",
       "      <td>19</td>\n",
       "      <td>3848</td>\n",
       "      <td>0.493763</td>\n",
       "    </tr>\n",
       "    <tr>\n",
       "      <th>sd</th>\n",
       "      <td>19</td>\n",
       "      <td>3848</td>\n",
       "      <td>0.493763</td>\n",
       "    </tr>\n",
       "    <tr>\n",
       "      <th>%d</th>\n",
       "      <td>15</td>\n",
       "      <td>3848</td>\n",
       "      <td>0.389813</td>\n",
       "    </tr>\n",
       "    <tr>\n",
       "      <th>rsi</th>\n",
       "      <td>14</td>\n",
       "      <td>3848</td>\n",
       "      <td>0.363825</td>\n",
       "    </tr>\n",
       "    <tr>\n",
       "      <th>atr</th>\n",
       "      <td>13</td>\n",
       "      <td>3848</td>\n",
       "      <td>0.337838</td>\n",
       "    </tr>\n",
       "    <tr>\n",
       "      <th>%k</th>\n",
       "      <td>13</td>\n",
       "      <td>3848</td>\n",
       "      <td>0.337838</td>\n",
       "    </tr>\n",
       "    <tr>\n",
       "      <th>tenkan_sen</th>\n",
       "      <td>0</td>\n",
       "      <td>3848</td>\n",
       "      <td>0.000000</td>\n",
       "    </tr>\n",
       "    <tr>\n",
       "      <th>kijun_sen</th>\n",
       "      <td>0</td>\n",
       "      <td>3848</td>\n",
       "      <td>0.000000</td>\n",
       "    </tr>\n",
       "    <tr>\n",
       "      <th>high</th>\n",
       "      <td>0</td>\n",
       "      <td>3848</td>\n",
       "      <td>0.000000</td>\n",
       "    </tr>\n",
       "    <tr>\n",
       "      <th>volume</th>\n",
       "      <td>0</td>\n",
       "      <td>3848</td>\n",
       "      <td>0.000000</td>\n",
       "    </tr>\n",
       "    <tr>\n",
       "      <th>close</th>\n",
       "      <td>0</td>\n",
       "      <td>3848</td>\n",
       "      <td>0.000000</td>\n",
       "    </tr>\n",
       "    <tr>\n",
       "      <th>low</th>\n",
       "      <td>0</td>\n",
       "      <td>3848</td>\n",
       "      <td>0.000000</td>\n",
       "    </tr>\n",
       "    <tr>\n",
       "      <th>open</th>\n",
       "      <td>0</td>\n",
       "      <td>3848</td>\n",
       "      <td>0.000000</td>\n",
       "    </tr>\n",
       "  </tbody>\n",
       "</table>\n",
       "</div>"
      ],
      "text/plain": [
       "             missing  total   percent\n",
       "signal_line       33   3848  0.857588\n",
       "senkou_b          26   3848  0.675676\n",
       "senkou_a          26   3848  0.675676\n",
       "macd              25   3848  0.649688\n",
       "lower_band        19   3848  0.493763\n",
       "upper_band        19   3848  0.493763\n",
       "middle_band       19   3848  0.493763\n",
       "sd                19   3848  0.493763\n",
       "%d                15   3848  0.389813\n",
       "rsi               14   3848  0.363825\n",
       "atr               13   3848  0.337838\n",
       "%k                13   3848  0.337838\n",
       "tenkan_sen         0   3848  0.000000\n",
       "kijun_sen          0   3848  0.000000\n",
       "high               0   3848  0.000000\n",
       "volume             0   3848  0.000000\n",
       "close              0   3848  0.000000\n",
       "low                0   3848  0.000000\n",
       "open               0   3848  0.000000"
      ]
     },
     "execution_count": 37,
     "metadata": {},
     "output_type": "execute_result"
    }
   ],
   "source": [
    "data.stb.missing()\n"
   ]
  },
  {
   "cell_type": "code",
   "execution_count": 38,
   "id": "dce155ec",
   "metadata": {},
   "outputs": [],
   "source": [
    "# Suppression des NaN\n",
    "data.dropna(how='any', inplace=True)"
   ]
  },
  {
   "cell_type": "code",
   "execution_count": 39,
   "id": "154e1084",
   "metadata": {},
   "outputs": [],
   "source": [
    "data_fe = data.copy()"
   ]
  },
  {
   "cell_type": "code",
   "execution_count": 40,
   "id": "b6e837c6",
   "metadata": {},
   "outputs": [
    {
     "data": {
      "text/html": [
       "<div>\n",
       "<style scoped>\n",
       "    .dataframe tbody tr th:only-of-type {\n",
       "        vertical-align: middle;\n",
       "    }\n",
       "\n",
       "    .dataframe tbody tr th {\n",
       "        vertical-align: top;\n",
       "    }\n",
       "\n",
       "    .dataframe thead th {\n",
       "        text-align: right;\n",
       "    }\n",
       "</style>\n",
       "<table border=\"1\" class=\"dataframe\">\n",
       "  <thead>\n",
       "    <tr style=\"text-align: right;\">\n",
       "      <th></th>\n",
       "      <th>open</th>\n",
       "      <th>high</th>\n",
       "      <th>low</th>\n",
       "      <th>close</th>\n",
       "      <th>volume</th>\n",
       "      <th>rsi</th>\n",
       "      <th>%k</th>\n",
       "      <th>%d</th>\n",
       "      <th>sd</th>\n",
       "      <th>macd</th>\n",
       "      <th>signal_line</th>\n",
       "      <th>tenkan_sen</th>\n",
       "      <th>kijun_sen</th>\n",
       "      <th>senkou_a</th>\n",
       "      <th>senkou_b</th>\n",
       "      <th>middle_band</th>\n",
       "      <th>upper_band</th>\n",
       "      <th>lower_band</th>\n",
       "      <th>atr</th>\n",
       "    </tr>\n",
       "    <tr>\n",
       "      <th>date</th>\n",
       "      <th></th>\n",
       "      <th></th>\n",
       "      <th></th>\n",
       "      <th></th>\n",
       "      <th></th>\n",
       "      <th></th>\n",
       "      <th></th>\n",
       "      <th></th>\n",
       "      <th></th>\n",
       "      <th></th>\n",
       "      <th></th>\n",
       "      <th></th>\n",
       "      <th></th>\n",
       "      <th></th>\n",
       "      <th></th>\n",
       "      <th></th>\n",
       "      <th></th>\n",
       "      <th></th>\n",
       "      <th></th>\n",
       "    </tr>\n",
       "  </thead>\n",
       "  <tbody>\n",
       "    <tr>\n",
       "      <th>2010-02-22</th>\n",
       "      <td>7.23</td>\n",
       "      <td>7.23</td>\n",
       "      <td>7.11</td>\n",
       "      <td>7.16</td>\n",
       "      <td>390825032</td>\n",
       "      <td>46.9367</td>\n",
       "      <td>70.8333</td>\n",
       "      <td>80.0654</td>\n",
       "      <td>0.1561</td>\n",
       "      <td>-0.0523</td>\n",
       "      <td>-0.0937</td>\n",
       "      <td>7.115</td>\n",
       "      <td>7.245</td>\n",
       "      <td>7.4950</td>\n",
       "      <td>7.495</td>\n",
       "      <td>7.1085</td>\n",
       "      <td>7.4206</td>\n",
       "      <td>6.7964</td>\n",
       "      <td>0.1722</td>\n",
       "    </tr>\n",
       "    <tr>\n",
       "      <th>2010-02-23</th>\n",
       "      <td>7.14</td>\n",
       "      <td>7.19</td>\n",
       "      <td>6.99</td>\n",
       "      <td>7.04</td>\n",
       "      <td>575313660</td>\n",
       "      <td>42.8571</td>\n",
       "      <td>45.8333</td>\n",
       "      <td>65.2778</td>\n",
       "      <td>0.1532</td>\n",
       "      <td>-0.0576</td>\n",
       "      <td>-0.0865</td>\n",
       "      <td>7.115</td>\n",
       "      <td>7.245</td>\n",
       "      <td>7.4950</td>\n",
       "      <td>7.495</td>\n",
       "      <td>7.0980</td>\n",
       "      <td>7.4044</td>\n",
       "      <td>6.7916</td>\n",
       "      <td>0.1742</td>\n",
       "    </tr>\n",
       "    <tr>\n",
       "      <th>2010-02-24</th>\n",
       "      <td>7.08</td>\n",
       "      <td>7.19</td>\n",
       "      <td>7.07</td>\n",
       "      <td>7.17</td>\n",
       "      <td>460566400</td>\n",
       "      <td>48.1555</td>\n",
       "      <td>72.9167</td>\n",
       "      <td>63.1944</td>\n",
       "      <td>0.1431</td>\n",
       "      <td>-0.0506</td>\n",
       "      <td>-0.0793</td>\n",
       "      <td>7.115</td>\n",
       "      <td>7.245</td>\n",
       "      <td>7.4950</td>\n",
       "      <td>7.495</td>\n",
       "      <td>7.0890</td>\n",
       "      <td>7.3752</td>\n",
       "      <td>6.8028</td>\n",
       "      <td>0.1725</td>\n",
       "    </tr>\n",
       "    <tr>\n",
       "      <th>2010-02-25</th>\n",
       "      <td>7.05</td>\n",
       "      <td>7.24</td>\n",
       "      <td>7.03</td>\n",
       "      <td>7.21</td>\n",
       "      <td>665397144</td>\n",
       "      <td>49.6875</td>\n",
       "      <td>81.2500</td>\n",
       "      <td>66.6667</td>\n",
       "      <td>0.1250</td>\n",
       "      <td>-0.0414</td>\n",
       "      <td>-0.0717</td>\n",
       "      <td>7.140</td>\n",
       "      <td>7.245</td>\n",
       "      <td>7.4925</td>\n",
       "      <td>7.495</td>\n",
       "      <td>7.0785</td>\n",
       "      <td>7.3285</td>\n",
       "      <td>6.8285</td>\n",
       "      <td>0.1751</td>\n",
       "    </tr>\n",
       "    <tr>\n",
       "      <th>2010-02-26</th>\n",
       "      <td>7.23</td>\n",
       "      <td>7.33</td>\n",
       "      <td>7.21</td>\n",
       "      <td>7.31</td>\n",
       "      <td>507460856</td>\n",
       "      <td>53.4304</td>\n",
       "      <td>95.0000</td>\n",
       "      <td>83.0556</td>\n",
       "      <td>0.1346</td>\n",
       "      <td>-0.0258</td>\n",
       "      <td>-0.0625</td>\n",
       "      <td>7.160</td>\n",
       "      <td>7.210</td>\n",
       "      <td>7.4950</td>\n",
       "      <td>7.495</td>\n",
       "      <td>7.0880</td>\n",
       "      <td>7.3573</td>\n",
       "      <td>6.8187</td>\n",
       "      <td>0.1712</td>\n",
       "    </tr>\n",
       "    <tr>\n",
       "      <th>...</th>\n",
       "      <td>...</td>\n",
       "      <td>...</td>\n",
       "      <td>...</td>\n",
       "      <td>...</td>\n",
       "      <td>...</td>\n",
       "      <td>...</td>\n",
       "      <td>...</td>\n",
       "      <td>...</td>\n",
       "      <td>...</td>\n",
       "      <td>...</td>\n",
       "      <td>...</td>\n",
       "      <td>...</td>\n",
       "      <td>...</td>\n",
       "      <td>...</td>\n",
       "      <td>...</td>\n",
       "      <td>...</td>\n",
       "      <td>...</td>\n",
       "      <td>...</td>\n",
       "      <td>...</td>\n",
       "    </tr>\n",
       "    <tr>\n",
       "      <th>2025-04-14</th>\n",
       "      <td>211.44</td>\n",
       "      <td>212.94</td>\n",
       "      <td>201.16</td>\n",
       "      <td>202.52</td>\n",
       "      <td>101352911</td>\n",
       "      <td>45.6690</td>\n",
       "      <td>59.0498</td>\n",
       "      <td>49.3175</td>\n",
       "      <td>15.3828</td>\n",
       "      <td>-8.9950</td>\n",
       "      <td>-8.3474</td>\n",
       "      <td>197.200</td>\n",
       "      <td>202.685</td>\n",
       "      <td>238.7325</td>\n",
       "      <td>239.740</td>\n",
       "      <td>208.6330</td>\n",
       "      <td>239.3986</td>\n",
       "      <td>177.8674</td>\n",
       "      <td>11.6030</td>\n",
       "    </tr>\n",
       "    <tr>\n",
       "      <th>2025-04-15</th>\n",
       "      <td>201.86</td>\n",
       "      <td>203.51</td>\n",
       "      <td>199.80</td>\n",
       "      <td>202.14</td>\n",
       "      <td>51343900</td>\n",
       "      <td>45.4755</td>\n",
       "      <td>58.3762</td>\n",
       "      <td>56.2430</td>\n",
       "      <td>15.4155</td>\n",
       "      <td>-8.2192</td>\n",
       "      <td>-8.3218</td>\n",
       "      <td>191.075</td>\n",
       "      <td>197.525</td>\n",
       "      <td>235.8550</td>\n",
       "      <td>239.740</td>\n",
       "      <td>208.1055</td>\n",
       "      <td>238.9364</td>\n",
       "      <td>177.2746</td>\n",
       "      <td>11.0392</td>\n",
       "    </tr>\n",
       "    <tr>\n",
       "      <th>2025-04-16</th>\n",
       "      <td>198.36</td>\n",
       "      <td>200.70</td>\n",
       "      <td>192.37</td>\n",
       "      <td>194.27</td>\n",
       "      <td>59732423</td>\n",
       "      <td>41.5569</td>\n",
       "      <td>44.4247</td>\n",
       "      <td>53.9502</td>\n",
       "      <td>15.6065</td>\n",
       "      <td>-8.1457</td>\n",
       "      <td>-8.2866</td>\n",
       "      <td>191.075</td>\n",
       "      <td>197.415</td>\n",
       "      <td>232.2325</td>\n",
       "      <td>238.775</td>\n",
       "      <td>207.0570</td>\n",
       "      <td>238.2700</td>\n",
       "      <td>175.8440</td>\n",
       "      <td>10.9485</td>\n",
       "    </tr>\n",
       "    <tr>\n",
       "      <th>2025-04-17</th>\n",
       "      <td>197.20</td>\n",
       "      <td>198.83</td>\n",
       "      <td>194.42</td>\n",
       "      <td>196.98</td>\n",
       "      <td>52164675</td>\n",
       "      <td>43.3663</td>\n",
       "      <td>49.2289</td>\n",
       "      <td>50.6766</td>\n",
       "      <td>15.6661</td>\n",
       "      <td>-7.7791</td>\n",
       "      <td>-8.1851</td>\n",
       "      <td>191.075</td>\n",
       "      <td>197.415</td>\n",
       "      <td>230.9625</td>\n",
       "      <td>237.505</td>\n",
       "      <td>206.2010</td>\n",
       "      <td>237.5333</td>\n",
       "      <td>174.8687</td>\n",
       "      <td>10.4922</td>\n",
       "    </tr>\n",
       "    <tr>\n",
       "      <th>2025-04-21</th>\n",
       "      <td>193.27</td>\n",
       "      <td>193.80</td>\n",
       "      <td>189.81</td>\n",
       "      <td>193.16</td>\n",
       "      <td>45860324</td>\n",
       "      <td>41.4194</td>\n",
       "      <td>42.7831</td>\n",
       "      <td>45.4789</td>\n",
       "      <td>15.6548</td>\n",
       "      <td>-7.7079</td>\n",
       "      <td>-8.0896</td>\n",
       "      <td>191.075</td>\n",
       "      <td>197.415</td>\n",
       "      <td>227.7175</td>\n",
       "      <td>234.260</td>\n",
       "      <td>204.9455</td>\n",
       "      <td>236.2550</td>\n",
       "      <td>173.6360</td>\n",
       "      <td>10.2549</td>\n",
       "    </tr>\n",
       "  </tbody>\n",
       "</table>\n",
       "<p>3815 rows × 19 columns</p>\n",
       "</div>"
      ],
      "text/plain": [
       "              open    high     low   close     volume      rsi       %k  \\\n",
       "date                                                                      \n",
       "2010-02-22    7.23    7.23    7.11    7.16  390825032  46.9367  70.8333   \n",
       "2010-02-23    7.14    7.19    6.99    7.04  575313660  42.8571  45.8333   \n",
       "2010-02-24    7.08    7.19    7.07    7.17  460566400  48.1555  72.9167   \n",
       "2010-02-25    7.05    7.24    7.03    7.21  665397144  49.6875  81.2500   \n",
       "2010-02-26    7.23    7.33    7.21    7.31  507460856  53.4304  95.0000   \n",
       "...            ...     ...     ...     ...        ...      ...      ...   \n",
       "2025-04-14  211.44  212.94  201.16  202.52  101352911  45.6690  59.0498   \n",
       "2025-04-15  201.86  203.51  199.80  202.14   51343900  45.4755  58.3762   \n",
       "2025-04-16  198.36  200.70  192.37  194.27   59732423  41.5569  44.4247   \n",
       "2025-04-17  197.20  198.83  194.42  196.98   52164675  43.3663  49.2289   \n",
       "2025-04-21  193.27  193.80  189.81  193.16   45860324  41.4194  42.7831   \n",
       "\n",
       "                 %d       sd    macd  signal_line  tenkan_sen  kijun_sen  \\\n",
       "date                                                                       \n",
       "2010-02-22  80.0654   0.1561 -0.0523      -0.0937       7.115      7.245   \n",
       "2010-02-23  65.2778   0.1532 -0.0576      -0.0865       7.115      7.245   \n",
       "2010-02-24  63.1944   0.1431 -0.0506      -0.0793       7.115      7.245   \n",
       "2010-02-25  66.6667   0.1250 -0.0414      -0.0717       7.140      7.245   \n",
       "2010-02-26  83.0556   0.1346 -0.0258      -0.0625       7.160      7.210   \n",
       "...             ...      ...     ...          ...         ...        ...   \n",
       "2025-04-14  49.3175  15.3828 -8.9950      -8.3474     197.200    202.685   \n",
       "2025-04-15  56.2430  15.4155 -8.2192      -8.3218     191.075    197.525   \n",
       "2025-04-16  53.9502  15.6065 -8.1457      -8.2866     191.075    197.415   \n",
       "2025-04-17  50.6766  15.6661 -7.7791      -8.1851     191.075    197.415   \n",
       "2025-04-21  45.4789  15.6548 -7.7079      -8.0896     191.075    197.415   \n",
       "\n",
       "            senkou_a  senkou_b  middle_band  upper_band  lower_band      atr  \n",
       "date                                                                          \n",
       "2010-02-22    7.4950     7.495       7.1085      7.4206      6.7964   0.1722  \n",
       "2010-02-23    7.4950     7.495       7.0980      7.4044      6.7916   0.1742  \n",
       "2010-02-24    7.4950     7.495       7.0890      7.3752      6.8028   0.1725  \n",
       "2010-02-25    7.4925     7.495       7.0785      7.3285      6.8285   0.1751  \n",
       "2010-02-26    7.4950     7.495       7.0880      7.3573      6.8187   0.1712  \n",
       "...              ...       ...          ...         ...         ...      ...  \n",
       "2025-04-14  238.7325   239.740     208.6330    239.3986    177.8674  11.6030  \n",
       "2025-04-15  235.8550   239.740     208.1055    238.9364    177.2746  11.0392  \n",
       "2025-04-16  232.2325   238.775     207.0570    238.2700    175.8440  10.9485  \n",
       "2025-04-17  230.9625   237.505     206.2010    237.5333    174.8687  10.4922  \n",
       "2025-04-21  227.7175   234.260     204.9455    236.2550    173.6360  10.2549  \n",
       "\n",
       "[3815 rows x 19 columns]"
      ]
     },
     "execution_count": 40,
     "metadata": {},
     "output_type": "execute_result"
    }
   ],
   "source": [
    "data_fe"
   ]
  },
  {
   "cell_type": "code",
   "execution_count": 41,
   "id": "1c0e4d78",
   "metadata": {},
   "outputs": [],
   "source": [
    "# Entraînement du modèle avec les features supplémentaires"
   ]
  },
  {
   "cell_type": "code",
   "execution_count": 42,
   "id": "9490bf48",
   "metadata": {},
   "outputs": [
    {
     "data": {
      "text/plain": [
       "<torch._C.Generator at 0x22c97e75470>"
      ]
     },
     "execution_count": 42,
     "metadata": {},
     "output_type": "execute_result"
    }
   ],
   "source": [
    "np.random.seed(0)        \n",
    "torch.manual_seed(0)     "
   ]
  },
  {
   "cell_type": "code",
   "execution_count": 43,
   "id": "a0cd7bbc",
   "metadata": {},
   "outputs": [],
   "source": [
    "# Fonction pour la création des séquences\n",
    "def create_sequences(data_fe, seq_length):\n",
    "    xs_fe = []\n",
    "    ys_fe = []\n",
    "    for i in range(len(data_fe)-seq_length):\n",
    "        x_fe = data_fe[i:(i+seq_length)]\n",
    "        y_fe = data_fe[i + seq_length, 3] \n",
    "        xs_fe.append(x_fe)\n",
    "        ys_fe.append(y_fe)\n",
    "    return np.array(xs_fe), np.array(ys_fe)"
   ]
  },
  {
   "cell_type": "code",
   "execution_count": 44,
   "id": "1caecf76",
   "metadata": {},
   "outputs": [],
   "source": [
    "seq_length = 10                                                   \n",
    "X_raw_fe, y_raw_fe = create_sequences(data_fe.values, seq_length)"
   ]
  },
  {
   "cell_type": "code",
   "execution_count": 45,
   "id": "efe5fa47",
   "metadata": {},
   "outputs": [],
   "source": [
    "# Normalisation des données\n",
    "scaler_X_fe = MinMaxScaler()\n"
   ]
  },
  {
   "cell_type": "code",
   "execution_count": 46,
   "id": "1e20ff16",
   "metadata": {},
   "outputs": [],
   "source": [
    "\n",
    "n_samples, seq_len, n_features = X_raw_fe.shape\n",
    "X_2d_fe = X_raw_fe.reshape(-1, n_features) \n",
    "X_scaled_2d_fe = scaler_X_fe.fit_transform(X_2d_fe) \n",
    "X_scaled_fe = X_scaled_2d_fe.reshape(n_samples, seq_len, n_features)\n",
    "scaler_y_fe = MinMaxScaler()\n",
    "y_scaled_fe = scaler_y_fe.fit_transform(y_raw_fe.reshape(-1, 1)).flatten()"
   ]
  },
  {
   "cell_type": "code",
   "execution_count": 47,
   "id": "3bb26489",
   "metadata": {},
   "outputs": [],
   "source": [
    "# Split train/test (80% / 20%)\n",
    "train_size_fe = int(len(X_scaled_fe) * 0.8)\n",
    "X_train_fe, y_train_fe = X_scaled_fe[:train_size_fe], y_scaled_fe[:train_size_fe]\n",
    "X_val_fe, y_val_fe = X_scaled_fe[train_size_fe:], y_scaled_fe[train_size_fe:]"
   ]
  },
  {
   "cell_type": "code",
   "execution_count": 48,
   "id": "572cf600",
   "metadata": {},
   "outputs": [],
   "source": [
    "# Conversion en tenseurs\n",
    "trainX_fe = torch.tensor(X_train_fe, dtype=torch.float32)   #(batch_size, sequence_length, input_size)\n",
    "trainY_fe = torch.tensor(y_train_fe[:, None], dtype=torch.float32)      # target en 2D pour la régression\n",
    "valX_fe = torch.tensor(X_val_fe, dtype=torch.float32)\n",
    "valY_fe = torch.tensor(y_val_fe[:, None], dtype=torch.float32)"
   ]
  },
  {
   "cell_type": "code",
   "execution_count": null,
   "id": "5c68059d",
   "metadata": {},
   "outputs": [],
   "source": []
  },
  {
   "cell_type": "code",
   "execution_count": 60,
   "id": "451ce172",
   "metadata": {},
   "outputs": [],
   "source": [
    "# Modèle : instance de la classe avec dimensions d'entrée et de sortie spécifiées, des unités cachées et un nombre de couches LSTM.LSTMModel\n",
    "model_fe = LSTMModel(input_dim=19, hidden_dim=256, layer_dim=1, output_dim=1)\n",
    "\n",
    "# Fonction de perte : perte d'erreur quadratique moyenne (MSE) pour les tâches de régression.\n",
    "criterion_fe = nn.MSELoss()\n",
    "\n",
    "# Optimiseur Adam\n",
    "optimizer_fe = torch.optim.Adam(model_fe.parameters(), lr=0.001)\n"
   ]
  },
  {
   "cell_type": "code",
   "execution_count": 61,
   "id": "1a448b2f",
   "metadata": {},
   "outputs": [],
   "source": [
    "# Entraînement du modèle avec features supplémentaires"
   ]
  },
  {
   "cell_type": "code",
   "execution_count": 62,
   "id": "37e7bff6",
   "metadata": {},
   "outputs": [
    {
     "name": "stdout",
     "output_type": "stream",
     "text": [
      "[FE]Epoch 10/250 - Train Loss : 0.00245265 - Val Loss: 0.0135\n",
      "[FE]Epoch 20/250 - Train Loss : 0.00061117 - Val Loss: 0.0017\n",
      "[FE]Epoch 30/250 - Train Loss : 0.00063643 - Val Loss: 0.0009\n",
      "[FE]Epoch 40/250 - Train Loss : 0.00013269 - Val Loss: 0.0032\n",
      "[FE]Epoch 50/250 - Train Loss : 0.00010803 - Val Loss: 0.0011\n",
      "[FE]Epoch 60/250 - Train Loss : 0.00010286 - Val Loss: 0.0008\n",
      "[FE]Epoch 70/250 - Train Loss : 0.00007992 - Val Loss: 0.0013\n",
      "[FE]Epoch 80/250 - Train Loss : 0.00007095 - Val Loss: 0.0007\n",
      "[FE]Epoch 90/250 - Train Loss : 0.00006622 - Val Loss: 0.0007\n",
      "[FE]Epoch 100/250 - Train Loss : 0.00006231 - Val Loss: 0.0007\n",
      "[FE]Epoch 110/250 - Train Loss : 0.00005867 - Val Loss: 0.0006\n",
      "[FE]Epoch 120/250 - Train Loss : 0.00005543 - Val Loss: 0.0005\n",
      "[FE]Epoch 130/250 - Train Loss : 0.00005259 - Val Loss: 0.0005\n",
      "[FE]Epoch 140/250 - Train Loss : 0.00005007 - Val Loss: 0.0005\n",
      "[FE]Epoch 150/250 - Train Loss : 0.00004782 - Val Loss: 0.0004\n",
      "[FE]Epoch 160/250 - Train Loss : 0.00004583 - Val Loss: 0.0004\n",
      "[FE]Epoch 170/250 - Train Loss : 0.00004408 - Val Loss: 0.0004\n",
      "[FE]Epoch 180/250 - Train Loss : 0.00004254 - Val Loss: 0.0004\n",
      "[FE]Epoch 190/250 - Train Loss : 0.00004120 - Val Loss: 0.0004\n",
      "[FE]Epoch 200/250 - Train Loss : 0.00004003 - Val Loss: 0.0004\n",
      "[FE]Epoch 210/250 - Train Loss : 0.00003901 - Val Loss: 0.0003\n",
      "[FE]Epoch 220/250 - Train Loss : 0.00003813 - Val Loss: 0.0003\n",
      "[FE]Epoch 230/250 - Train Loss : 0.00003737 - Val Loss: 0.0003\n",
      "[FE]Epoch 240/250 - Train Loss : 0.00003670 - Val Loss: 0.0003\n",
      "[FE]Epoch 250/250 - Train Loss : 0.00003612 - Val Loss: 0.0003\n"
     ]
    }
   ],
   "source": [
    "num_epochs = 250\n",
    "h0_fe, c0_fe = None, None\n",
    "\n",
    "train_losses_fe = []\n",
    "val_losses_fe = []\n",
    "\n",
    "for epoch in range(num_epochs):\n",
    "    model_fe.train()                                            # passe le modèle en mode d'entraînement.\n",
    "    optimizer_fe.zero_grad()\n",
    "\n",
    "    outputs_fe, h0_fe, c0_fe = model_fe(trainX_fe, h0_fe, c0_fe)\n",
    "\n",
    "    loss_fe = criterion_fe(outputs_fe, trainY_fe)                        # comparaison des prédictions (outputs) au label réel (trainY).\n",
    "    loss_fe.backward()                                          # calcul des gradients.\n",
    "    optimizer_fe.step()                                         # mise à jour des poids du modèle.\n",
    "\n",
    "    h0_fe = h0_fe.detach()\n",
    "    c0_fe = c0_fe.detach()\n",
    "\n",
    "    train_losses_fe.append(loss_fe.item())\n",
    "\n",
    "    # Validation loss\n",
    "    model_fe.eval()\n",
    "    with torch.no_grad():\n",
    "        val_pred_fe, _, _ = model_fe(valX_fe)\n",
    "        val_loss_fe = criterion_fe(val_pred_fe, valY_fe)\n",
    "        val_losses_fe.append(val_loss_fe.item())\n",
    "\n",
    "    if (epoch+1) % 10 == 0:\n",
    "        print(f\"[FE]Epoch {epoch+1}/{num_epochs} - Train Loss : {loss_fe.item():.8f} - Val Loss: {val_loss_fe.item():.4f}\")\n"
   ]
  },
  {
   "cell_type": "code",
   "execution_count": 63,
   "id": "cf5f985b",
   "metadata": {},
   "outputs": [
    {
     "name": "stdout",
     "output_type": "stream",
     "text": [
      "[FE]✅ MAE: 3.20 | RMSE: 4.48\n"
     ]
    }
   ],
   "source": [
    "model_fe.eval()\n",
    "with torch.no_grad():                                                         \n",
    "    predicted_val_fe, _, _ = model_fe(valX_fe)\n",
    "    predicted_val_np_fe = predicted_val_fe.numpy().flatten()\n",
    "    y_val_np_fe = valY_fe.numpy().flatten()\n",
    "\n",
    "    # Dénormalisation\n",
    "    predicted_val_denorm_fe = scaler_y_fe.inverse_transform(predicted_val_np_fe.reshape(-1, 1)).flatten()\n",
    "    y_val_denorm_fe = scaler_y_fe.inverse_transform(y_val_np_fe.reshape(-1, 1)).flatten()\n",
    "\n",
    "\n",
    "    mae_fe = mean_absolute_error(y_val_denorm_fe, predicted_val_denorm_fe)\n",
    "    rmse_fe = math.sqrt(mean_squared_error(y_val_denorm_fe, predicted_val_denorm_fe))\n",
    "\n",
    "    print(f\"[FE]✅ MAE: {mae_fe:.2f} | RMSE: {rmse_fe:.2f}\")"
   ]
  },
  {
   "cell_type": "code",
   "execution_count": 64,
   "id": "ca701ed7",
   "metadata": {},
   "outputs": [],
   "source": [
    "# Visualation des résultats avec features supplémentaires"
   ]
  },
  {
   "cell_type": "code",
   "execution_count": null,
   "id": "03bb9809",
   "metadata": {},
   "outputs": [],
   "source": [
    "# Préparer les données pour la visualisation\n",
    "model_fe.eval()\n",
    "with torch.no_grad():\n",
    "    # Faire des prédictions sur l'ensemble de validation\n",
    "    predicted_val_fe, _, _ = model_fe(valX_fe)\n",
    "    \n",
    "    # Convertir en numpy et dénormaliser\n",
    "    predicted_val_np_fe = predicted_val_fe.numpy().flatten()\n",
    "    y_val_np_fe = valY_fe.numpy().flatten()\n",
    "    \n",
    "    # Dénormalisation\n",
    "    predicted_val_denorm_fe = scaler_y_fe.inverse_transform(predicted_val_np_fe.reshape(-1, 1)).flatten()\n",
    "    y_val_denorm_fe = scaler_y_fe.inverse_transform(y_val_np_fe.reshape(-1, 1)).flatten()\n",
    "    \n",
    "    # Calculer les indices correspondants dans les données originales\n",
    "    # train_size + seq_length est le point de départ de l'ensemble de validation\n",
    "    val_indices_fe = np.arange(train_size_fe + seq_length, train_size_fe + seq_length + len(predicted_val_denorm_fe))\n",
    "    \n",
    "    # Récupérer les valeurs \"close\" originales pour ces indices\n",
    "    original_close_fe = data_fe['close'].values\n",
    "    \n",
    "    # Créer un graphique\n",
    "    plt.figure(figsize=(14, 7))\n",
    "    \n",
    "    # Tracer les données originales\n",
    "    plt.plot(original_close_fe[val_indices_fe], label='Données originales (close)', color='blue')\n",
    "    \n",
    "    # Tracer les prédictions\n",
    "    plt.plot(predicted_val_denorm_fe, label='Prédictions du modèle', color='red', linestyle='--')\n",
    "    \n",
    "    # Personnaliser le graphique\n",
    "    plt.title('Comparaison des données originales et des prédictions du modèle LSTM avec features engineering')\n",
    "    plt.xlabel('Échantillons de l\\'ensemble de validation')\n",
    "    plt.ylabel('Prix de clôture')\n",
    "    plt.legend()\n",
    "    plt.grid(True, alpha=0.3)\n",
    "    \n",
    "    # Afficher le graphique\n",
    "    plt.tight_layout()\n",
    "    plt.show()\n",
    "    \n",
    "    # Afficher les métriques d'erreur\n",
    "    print(f\"MAE: {mae_fe:.4f}\")\n",
    "    print(f\"RMSE: {rmse_fe:.4f}\")"
   ]
  },
  {
   "cell_type": "code",
   "execution_count": 66,
   "id": "0bea16ef",
   "metadata": {},
   "outputs": [
    {
     "data": {
      "image/png": "[encoded data removed]",
      "text/plain": [
       "<Figure size 640x480 with 1 Axes>"
      ]
     },
     "metadata": {},
     "output_type": "display_data"
    }
   ],
   "source": [
    "plt.plot(train_losses_fe, label='Train Loss')\n",
    "plt.plot(val_losses_fe, label='Val Loss')\n",
    "plt.xlabel(\"Epoch\")\n",
    "plt.ylabel(\"Loss\")\n",
    "plt.legend()\n",
    "plt.title(\"Training vs Validation Loss avec features supplémentaires\")\n",
    "plt.show()"
   ]
  },
  {
   "cell_type": "code",
   "execution_count": 67,
   "id": "fac5ccd1",
   "metadata": {},
   "outputs": [],
   "source": [
    "# Comparaison sans et avec features supplémentaires"
   ]
  },
  {
   "cell_type": "code",
   "execution_count": 68,
   "id": "99937ded",
   "metadata": {},
   "outputs": [
    {
     "data": {
      "image/png": "[encoded data removed]",
      "text/plain": [
       "<Figure size 1400x600 with 1 Axes>"
      ]
     },
     "metadata": {},
     "output_type": "display_data"
    },
    {
     "name": "stdout",
     "output_type": "stream",
     "text": [
      "Sans FE - MAE: 5.02 | RMSE: 6.74\n",
      "Avec FE - MAE: 3.20 | RMSE: 4.48\n"
     ]
    }
   ],
   "source": [
    "plt.figure(figsize=(14, 6))\n",
    "\n",
    "plt.plot(y_val_denorm, label=\"Vraies valeurs\", color=\"black\")\n",
    "plt.plot(predicted_val_denorm, label=\"Prédictions sans FE\", linestyle=\"--\", color=\"red\")\n",
    "plt.plot(predicted_val_denorm_fe, label=\"Prédictions avec FE\", linestyle=\"--\", color=\"green\")\n",
    "\n",
    "plt.title(\"Comparaison des prédictions LSTM avec et sans Feature Engineering\")\n",
    "plt.xlabel(\"Échantillons\")\n",
    "plt.ylabel(\"Prix de clôture\")\n",
    "plt.legend()\n",
    "plt.grid(True)\n",
    "plt.tight_layout()\n",
    "plt.show()\n",
    "\n",
    "print(f\"Sans FE - MAE: {mae:.2f} | RMSE: {rmse:.2f}\")\n",
    "print(f\"Avec FE - MAE: {mae_fe:.2f} | RMSE: {rmse_fe:.2f}\")\n"
   ]
  },
  {
   "cell_type": "code",
   "execution_count": null,
   "id": "ca3c8c50",
   "metadata": {},
   "outputs": [],
   "source": []
  }
 ],
 "metadata": {
  "colab": {
   "provenance": []
  },
  "kernelspec": {
   "display_name": "Python 3 (ipykernel)",
   "language": "python",
   "name": "python3"
  },
  "language_info": {
   "codemirror_mode": {
    "name": "ipython",
    "version": 3
   },
   "file_extension": ".py",
   "mimetype": "text/x-python",
   "name": "python",
   "nbconvert_exporter": "python",
   "pygments_lexer": "ipython3",
   "version": "3.12.4"
  }
 },
 "nbformat": 4,
 "nbformat_minor": 5
}
